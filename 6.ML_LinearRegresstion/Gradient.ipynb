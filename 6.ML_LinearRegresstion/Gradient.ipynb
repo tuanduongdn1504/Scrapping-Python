{
 "cells": [
  {
   "cell_type": "code",
   "execution_count": 4,
   "metadata": {},
   "outputs": [],
   "source": [
    "import numpy as np\n",
    "\n",
    "xt=np.array([[1,2,3,4,5]]).T\n",
    "y=np.array([[6,7,4,3,2]]).T\n",
    "X=np.concatenate((xt,one),axis=1)\n",
    "one=np.ones((xt.shape[0],1))\n",
    "\n",
    "def gradient(result):\n",
    "    return (np.dot(X.T,np.dot(X,result)-y))/5\n",
    "\n",
    "def gradientDescent(result_init, rate):\n",
    "    result = result_init\n",
    "    i = 0\n",
    "    while True:\n",
    "        result = result - rate*gradient(result)\n",
    "        i = i + 1\n",
    "        if (np.linalg.norm (gradient(result)) < 1e-6):\n",
    "            break\n",
    "    return result, i\n"
   ]
  },
  {
   "cell_type": "code",
   "execution_count": 5,
   "metadata": {},
   "outputs": [
    {
     "name": "stdout",
     "output_type": "stream",
     "text": [
      "(array([[-1.19999842],\n",
      "       [ 7.9999943 ]]), 91317)\n"
     ]
    }
   ],
   "source": [
    "result_init = [[10], [-20]]\n",
    "result = gradientDescent(result_init,0.001)\n",
    "\n",
    "print (result)"
   ]
  },
  {
   "cell_type": "code",
   "execution_count": null,
   "metadata": {},
   "outputs": [],
   "source": []
  }
 ],
 "metadata": {
  "kernelspec": {
   "display_name": "Python 3",
   "language": "python",
   "name": "python3"
  },
  "language_info": {
   "codemirror_mode": {
    "name": "ipython",
    "version": 3
   },
   "file_extension": ".py",
   "mimetype": "text/x-python",
   "name": "python",
   "nbconvert_exporter": "python",
   "pygments_lexer": "ipython3",
   "version": "3.6.5"
  }
 },
 "nbformat": 4,
 "nbformat_minor": 2
}
