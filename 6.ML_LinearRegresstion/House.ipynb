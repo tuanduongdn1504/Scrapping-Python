{
 "cells": [
  {
   "cell_type": "code",
   "execution_count": 1,
   "metadata": {},
   "outputs": [
    {
     "name": "stdout",
     "output_type": "stream",
     "text": [
      "[[    61.8399461 ]\n",
      " [  9319.75260206]\n",
      " [ 12646.3474864 ]\n",
      " [-13601.01141229]\n",
      " [-17347.37694852]]\n"
     ]
    }
   ],
   "source": [
    "import numpy as np\n",
    "import pandas as pd\n",
    "df1=pd.read_csv('./house-prices.csv')\n",
    "y=np.array([df1['Price']]).T\n",
    "xt=np.array(df1[['SqFt','Bedrooms','Bathrooms','Offers']])\n",
    "one=np.ones((xt.shape[0],1))\n",
    "X=np.concatenate((xt,one),axis=1)\n",
    "a=np.dot(X.T,X)\n",
    "a=np.linalg.pinv(np.dot(X.T,X))\n",
    "b=np.dot(X.T,y)\n",
    "Te=np.dot(a,b)\n",
    "print(Te)\n",
    "\n"
   ]
  },
  {
   "cell_type": "code",
   "execution_count": 29,
   "metadata": {},
   "outputs": [],
   "source": []
  },
  {
   "cell_type": "code",
   "execution_count": null,
   "metadata": {},
   "outputs": [],
   "source": []
  }
 ],
 "metadata": {
  "kernelspec": {
   "display_name": "Python 3",
   "language": "python",
   "name": "python3"
  },
  "language_info": {
   "codemirror_mode": {
    "name": "ipython",
    "version": 3
   },
   "file_extension": ".py",
   "mimetype": "text/x-python",
   "name": "python",
   "nbconvert_exporter": "python",
   "pygments_lexer": "ipython3",
   "version": "3.6.5"
  }
 },
 "nbformat": 4,
 "nbformat_minor": 2
}
