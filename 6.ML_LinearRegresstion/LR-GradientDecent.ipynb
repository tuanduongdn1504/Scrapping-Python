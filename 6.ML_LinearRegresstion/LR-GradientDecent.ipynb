{
 "cells": [
  {
   "cell_type": "code",
   "execution_count": 90,
   "metadata": {},
   "outputs": [],
   "source": [
    "import numpy as np\n",
    "def linear_regression(X, y, m_current=0, b_current=0, epochs=5000, learning_rate=0.000):\n",
    "    N =float(len(y))\n",
    "    costmin=1000\n",
    "    for i in range(epochs):\n",
    "        y_current=(m_current * X) + b_current\n",
    "        cost= sum([data**2 for data in  (y-y_current)]) / N\n",
    "        if(cost<costmin):\n",
    "            costmin=cost\n",
    "        m_gradient=-2/N *sum(X*(y-y_current))\n",
    "        b_gradient=-2/N *sum(y-y_current)\n",
    "        m_current=m_current -learning_rate * m_gradient\n",
    "        b_current=b_current -learning_rate * b_gradient\n",
    "        if (cost <7):\n",
    "            break\n",
    "    return m_current,b_current,costmin\n"
   ]
  },
  {
   "cell_type": "code",
   "execution_count": 91,
   "metadata": {},
   "outputs": [
    {
     "name": "stdout",
     "output_type": "stream",
     "text": [
      "(0.7672192131113224, 0.8878560834099508, 9.76549131526281)\n"
     ]
    }
   ],
   "source": [
    "\n",
    "X=np.array([1,2,3,4,5])\n",
    "y=np.array([6,7,4,3,2])\n",
    "\n",
    "result =linear_regression(X,y)\n",
    "print(result)"
   ]
  },
  {
   "cell_type": "code",
   "execution_count": null,
   "metadata": {},
   "outputs": [],
   "source": []
  }
 ],
 "metadata": {
  "kernelspec": {
   "display_name": "Python 3",
   "language": "python",
   "name": "python3"
  },
  "language_info": {
   "codemirror_mode": {
    "name": "ipython",
    "version": 3
   },
   "file_extension": ".py",
   "mimetype": "text/x-python",
   "name": "python",
   "nbconvert_exporter": "python",
   "pygments_lexer": "ipython3",
   "version": "3.6.5"
  }
 },
 "nbformat": 4,
 "nbformat_minor": 2
}
