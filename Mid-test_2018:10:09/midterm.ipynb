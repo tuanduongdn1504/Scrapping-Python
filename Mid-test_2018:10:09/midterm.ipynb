{
 "cells": [
  {
   "cell_type": "code",
   "execution_count": 3,
   "metadata": {
    "scrolled": true
   },
   "outputs": [
    {
     "name": "stdout",
     "output_type": "stream",
     "text": [
      "[[-1.2]\n",
      " [ 8. ]]\n"
     ]
    }
   ],
   "source": [
    "import numpy as np\n",
    "xt=np.array([[1,2,3,4,5]]).T\n",
    "# xt=np.array([[1,2,3,4,5]])\n",
    "# print(xt[::2])\n",
    "y=np.array([[6,7,4,3,2]]).T\n",
    "a=np.linalg.pinv(np.dot(X.T,X))\n",
    "b=np.dot(X.T,y)\n",
    "Te=np.dot(a,b)\n",
    "print"
   ]
  },
  {
   "cell_type": "code",
   "execution_count": 5,
   "metadata": {},
   "outputs": [],
   "source": [
    "import numpy as np\n",
    "def linear_regression(X, y, m_current=0, b_current=0, epochs=5000, gama=0.6,learning_rate=0.0001):\n",
    "    N =float(len(y))\n",
    "    xt=np.array(X).T\n",
    "    y=np.array(X).T\n",
    "    one=np.ones((xt.shape[0],1))\n",
    "    X=np.concatenate((xt,one),axis=1)\n",
    "    a=np.linalg.pinv(np.dot(X.T,X))\n",
    "    b=np.dot(X.T,y)        \n",
    "    Te=np.dot(a,b)  \n",
    "    for i in range(epochs):\n",
    "        Lamda=1/N * np.dot(X.T,y)\n",
    "        Te=Te-learning_rate * \n",
    "        \n"
   ]
  },
  {
   "cell_type": "code",
   "execution_count": 5,
   "metadata": {},
   "outputs": [
    {
     "name": "stdout",
     "output_type": "stream",
     "text": [
      "[[55. 15.]\n",
      " [15.  5.]]\n",
      "[[ 0.1 -0.3]\n",
      " [-0.3  1.1]]\n",
      "[[54.]\n",
      " [22.]]\n",
      "[[-1.2]\n",
      " [ 8. ]]\n"
     ]
    }
   ],
   "source": [
    "X=[[1,2,3,4,5]]\n",
    "y=[[6,7,4,3,2]]"
   ]
  },
  {
   "cell_type": "code",
   "execution_count": 12,
   "metadata": {},
   "outputs": [],
   "source": [
    "\n"
   ]
  },
  {
   "cell_type": "code",
   "execution_count": 13,
   "metadata": {},
   "outputs": [
    {
     "name": "stdout",
     "output_type": "stream",
     "text": [
      "(array([[-1.19999842],\n",
      "       [ 7.9999943 ]]), 90157)\n"
     ]
    }
   ],
   "source": []
  },
  {
   "cell_type": "code",
   "execution_count": 10,
   "metadata": {},
   "outputs": [
    {
     "name": "stdout",
     "output_type": "stream",
     "text": [
      "[[30. 10.]\n",
      " [10.  4.]]\n",
      "[[44.]\n",
      " [20.]]\n",
      "[[-1.2]\n",
      " [ 8. ]]\n"
     ]
    }
   ],
   "source": [
    "import numpy as np\n",
    "xt=np.array([[1,2,3,4]]).T\n",
    "one=np.ones((xt.shape[0],1))\n",
    "X=np.concatenate((xt,one),axis=1)\n",
    "y=np.array([[6,7,4,3]]).T\n",
    "a=np.dot(X.T,X)\n",
    "print(a)\n",
    "a=np.linalg.pinv(np.dot(X.T,X))\n",
    "b=np.dot(X.T,y)\n",
    "print(b)\n",
    "Te=np.dot(a,b)\n",
    "print(Te)"
   ]
  },
  {
   "cell_type": "code",
   "execution_count": 8,
   "metadata": {},
   "outputs": [
    {
     "name": "stdout",
     "output_type": "stream",
     "text": [
      "6\n"
     ]
    }
   ],
   "source": [
    "print(29*3-81)"
   ]
  },
  {
   "cell_type": "code",
   "execution_count": null,
   "metadata": {},
   "outputs": [],
   "source": []
  }
 ],
 "metadata": {
  "kernelspec": {
   "display_name": "Python 3",
   "language": "python",
   "name": "python3"
  },
  "language_info": {
   "codemirror_mode": {
    "name": "ipython",
    "version": 3
   },
   "file_extension": ".py",
   "mimetype": "text/x-python",
   "name": "python",
   "nbconvert_exporter": "python",
   "pygments_lexer": "ipython3",
   "version": "3.6.5"
  }
 },
 "nbformat": 4,
 "nbformat_minor": 2
}
